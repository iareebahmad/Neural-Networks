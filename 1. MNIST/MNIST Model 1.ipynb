{
 "cells": [
  {
   "cell_type": "code",
   "execution_count": 1,
   "id": "a7a3aeb6-fdee-4ee7-8d85-a398e0029f64",
   "metadata": {},
   "outputs": [],
   "source": [
    "import torch\n",
    "import torch.nn as nn\n",
    "import torch.optim as optim\n",
    "from torchvision import datasets, transforms\n",
    "from torch.utils.data import DataLoader"
   ]
  },
  {
   "cell_type": "code",
   "execution_count": 2,
   "id": "fcd3714f-1823-4250-b28d-ca4fc38edfd3",
   "metadata": {},
   "outputs": [],
   "source": [
    "# Load the datasets\n",
    "train_dataset = datasets.MNIST(\n",
    "    root = \"data\",\n",
    "    train = True,\n",
    "    transform = transforms.ToTensor(),\n",
    "    download = True\n",
    ")\n",
    "\n",
    "test_dataset = datasets.MNIST(\n",
    "    root = \"data\",\n",
    "    train = False,\n",
    "    transform = transforms.ToTensor(),\n",
    "    download = True\n",
    ")"
   ]
  },
  {
   "cell_type": "code",
   "execution_count": 3,
   "id": "723fa415-b18b-4a05-abcf-e543b805acaf",
   "metadata": {},
   "outputs": [],
   "source": [
    "# Wrap the datasets in dataloader for batching\n",
    "train_loader = DataLoader(dataset = train_dataset, batch_size = 64, shuffle = True)\n",
    "test_loader = DataLoader(dataset = test_dataset, batch_size = 64, shuffle = False)"
   ]
  },
  {
   "cell_type": "code",
   "execution_count": 4,
   "id": "9659b657-a922-4c8b-9940-555f7beadecc",
   "metadata": {},
   "outputs": [],
   "source": [
    "# Define a simple neural network\n",
    "class SimpleNN(nn.Module):\n",
    "    def __init__(self):\n",
    "        super().__init__()\n",
    "        self.fc1 = nn.Linear(28*28, 128)  #nn.Linear(input_size, output_size)\n",
    "        self.fc2 = nn.Linear(128,10)\n",
    "    def forward(self,x):\n",
    "        x = x.view(-1, 28*28)\n",
    "        x = torch.relu(self.fc1(x))\n",
    "        x = self.fc2(x)\n",
    "        return x"
   ]
  },
  {
   "cell_type": "markdown",
   "id": "c7831d26-2eb7-4047-bd81-f67e6b4610a3",
   "metadata": {},
   "source": [
    "**So the flow is:\n",
    "Pixels (784) → Features (128) → Digit Scores (10).**"
   ]
  },
  {
   "cell_type": "code",
   "execution_count": 6,
   "id": "7bc4b540-4fed-43a0-9fdb-7f755da0f286",
   "metadata": {},
   "outputs": [],
   "source": [
    "# Initialize model, loss, optimizer\n",
    "model = SimpleNN()\n",
    "loss_fn = nn.CrossEntropyLoss()\n",
    "optimizer = optim.Adam(model.parameters(), lr=0.001)"
   ]
  },
  {
   "cell_type": "code",
   "execution_count": 7,
   "id": "af8774fc-dbaa-4fb2-841f-a3be10afb37b",
   "metadata": {},
   "outputs": [
    {
     "name": "stdout",
     "output_type": "stream",
     "text": [
      "Epoch 1, Loss = 0.1303\n",
      "Epoch 2, Loss = 0.1749\n",
      "Epoch 3, Loss = 0.0333\n",
      "Epoch 4, Loss = 0.1395\n",
      "Epoch 5, Loss = 0.1421\n",
      "Epoch 6, Loss = 0.0163\n",
      "Epoch 7, Loss = 0.0027\n",
      "Epoch 8, Loss = 0.1560\n",
      "Epoch 9, Loss = 0.0148\n",
      "Epoch 10, Loss = 0.0053\n"
     ]
    }
   ],
   "source": [
    "# Training loop\n",
    "for epoch in range(10):   \n",
    "    for images, labels in train_loader:\n",
    "        outputs = model(images)         \n",
    "        loss = loss_fn(outputs, labels)   \n",
    "\n",
    "        optimizer.zero_grad()             \n",
    "        loss.backward()                   \n",
    "        optimizer.step()                  \n",
    "\n",
    "    print(f\"Epoch {epoch+1}, Loss = {loss.item():.4f}\")"
   ]
  },
  {
   "cell_type": "code",
   "execution_count": 8,
   "id": "b452558b-7593-4136-a3e8-d8729c833f8a",
   "metadata": {},
   "outputs": [
    {
     "name": "stdout",
     "output_type": "stream",
     "text": [
      "Test Accuracy = 97.58%\n"
     ]
    }
   ],
   "source": [
    "# Test accuracy\n",
    "correct, total = 0, 0\n",
    "with torch.no_grad():  # no gradients during testing\n",
    "    for images, labels in test_loader:\n",
    "        outputs = model(images)\n",
    "        _, predicted = torch.max(outputs, 1)\n",
    "        correct += (predicted == labels).sum().item()\n",
    "        total += labels.size(0)\n",
    "\n",
    "print(f\"Test Accuracy = {100 * correct / total:.2f}%\")"
   ]
  }
 ],
 "metadata": {
  "kernelspec": {
   "display_name": "Python 3 (ipykernel)",
   "language": "python",
   "name": "python3"
  },
  "language_info": {
   "codemirror_mode": {
    "name": "ipython",
    "version": 3
   },
   "file_extension": ".py",
   "mimetype": "text/x-python",
   "name": "python",
   "nbconvert_exporter": "python",
   "pygments_lexer": "ipython3",
   "version": "3.12.7"
  }
 },
 "nbformat": 4,
 "nbformat_minor": 5
}
