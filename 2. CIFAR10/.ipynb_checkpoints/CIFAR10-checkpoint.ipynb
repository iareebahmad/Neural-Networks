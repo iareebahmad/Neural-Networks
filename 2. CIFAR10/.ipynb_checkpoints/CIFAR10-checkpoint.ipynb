{
 "cells": [
  {
   "cell_type": "code",
   "execution_count": 1,
   "id": "41bb2dd3-851f-409c-a89a-bb4539e302bd",
   "metadata": {},
   "outputs": [],
   "source": [
    "import torch\n",
    "import torch.nn as nn\n",
    "import torch.optim as optim\n",
    "from torchvision import datasets, transforms\n",
    "from torch.utils.data import DataLoader\n",
    "import matplotlib.pyplot as plt"
   ]
  },
  {
   "cell_type": "code",
   "execution_count": 2,
   "id": "70176e68-f775-4562-aa60-253cfe8d83c2",
   "metadata": {},
   "outputs": [],
   "source": [
    "# Loading the datasets\n",
    "# First let us normalize the dataset\n",
    "transform = transforms.Compose([\n",
    "    transforms.ToTensor(),\n",
    "    transforms.Normalize((0.5, 0.5, 0.5), (0.5, 0.5, 0.5))  # normalize to [-1, 1]\n",
    "])\n",
    "\n",
    "train_dataset = datasets.CIFAR10(\n",
    "    root = 'root',\n",
    "    train = True,\n",
    "    transform = transform,\n",
    "    download = True\n",
    ")\n",
    "\n",
    "test_dataset = datasets.CIFAR10(\n",
    "    root = 'data',\n",
    "    train = False,\n",
    "    transform = transform,\n",
    "    download = True\n",
    ")"
   ]
  },
  {
   "cell_type": "code",
   "execution_count": 3,
   "id": "f53d01dc-2cea-4517-8a86-eae3f723d94a",
   "metadata": {},
   "outputs": [],
   "source": [
    "# Wrap the datasets in dataloader for batching\n",
    "train_loader = DataLoader(dataset = train_dataset, batch_size = 64, shuffle = True)\n",
    "test_loader = DataLoader(dataset = test_dataset, batch_size = 64, shuffle = False)"
   ]
  },
  {
   "cell_type": "code",
   "execution_count": 4,
   "id": "1073d16a-93b4-44c3-a189-f5d6c6a0143d",
   "metadata": {},
   "outputs": [],
   "source": [
    "# Define Neural Network\n",
    "class SimpleNN(nn.Module):\n",
    "    def __init__(self):\n",
    "        super().__init__()\n",
    "        self.fc1 = nn.Linear(32*32*3, 512)\n",
    "        self.fc2 = nn.Linear(512,256)\n",
    "        self.fc3 = nn.Linear(256,10)   # We have 10 classes in CIFAR10 dataset\n",
    "    \n",
    "    def forward(self,x):\n",
    "        x = x.view(-1, 32*32*3)              # flatten (batch_size, 3072)\n",
    "        x = torch.relu(self.fc1(x))\n",
    "        x = torch.relu(self.fc2(x))\n",
    "        x = self.fc3(x)\n",
    "        return x"
   ]
  },
  {
   "cell_type": "code",
   "execution_count": 5,
   "id": "1388412c-d8e2-4ca7-9fa1-8b504ee71304",
   "metadata": {},
   "outputs": [],
   "source": [
    "# Initialize model, loss, optimizer\n",
    "model = SimpleNN()\n",
    "loss_fn = nn.CrossEntropyLoss()\n",
    "optimizer = optim.Adam(model.parameters(), lr = 0.001)"
   ]
  },
  {
   "cell_type": "code",
   "execution_count": 6,
   "id": "7f546b0e-468b-4f8a-93bd-1317c8a84d16",
   "metadata": {
    "scrolled": true
   },
   "outputs": [
    {
     "name": "stdout",
     "output_type": "stream",
     "text": [
      "Epoch 1, Loss = 1.5242\n",
      "Epoch 2, Loss = 1.6801\n",
      "Epoch 3, Loss = 0.9609\n",
      "Epoch 4, Loss = 1.3855\n",
      "Epoch 5, Loss = 1.2410\n",
      "Epoch 6, Loss = 1.0393\n",
      "Epoch 7, Loss = 1.2527\n",
      "Epoch 8, Loss = 1.3072\n",
      "Epoch 9, Loss = 0.6859\n",
      "Epoch 10, Loss = 0.7879\n"
     ]
    }
   ],
   "source": [
    "#Training loop\n",
    "for epoch in range(10):   \n",
    "    for images, labels in train_loader:\n",
    "        outputs = model(images)         \n",
    "        loss = loss_fn(outputs, labels)   \n",
    "\n",
    "        optimizer.zero_grad()             \n",
    "        loss.backward()                   \n",
    "        optimizer.step()\n",
    "    print(f\"Epoch {epoch+1}, Loss = {loss.item():.4f}\")"
   ]
  },
  {
   "cell_type": "code",
   "execution_count": 1,
   "id": "58b3ba9d-e027-4ed9-a1e7-9c142850feec",
   "metadata": {},
   "outputs": [
    {
     "data": {
      "text/plain": [
       "<Axes: xlabel='Epoch', ylabel='Loss'>"
      ]
     },
     "execution_count": 1,
     "metadata": {},
     "output_type": "execute_result"
    },
    {
     "data": {
      "image/png": "[encoded data removed]",
      "text/plain": [
       "<Figure size 640x480 with 1 Axes>"
      ]
     },
     "metadata": {},
     "output_type": "display_data"
    }
   ],
   "source": [
    "import seaborn as sns\n",
    "import pandas as pd\n",
    "loss_list = [1.5242,1.6801,0.9609,1.3855,1.2410,1.0393,1.2527,1.3072,0.6859,0.7879]\n",
    "e_list = [x for x in range(1,11)]\n",
    "df = pd.DataFrame({\"Epoch\": e_list, \"Loss\": loss_list})\n",
    "sns.lineplot(data=df, x=\"Epoch\", y=\"Loss\", marker=\"o\")"
   ]
  },
  {
   "cell_type": "code",
   "execution_count": 7,
   "id": "d6b36261-c088-416b-be26-eb0b083d159c",
   "metadata": {},
   "outputs": [
    {
     "name": "stdout",
     "output_type": "stream",
     "text": [
      "Test Accuracy = 52.97%\n"
     ]
    }
   ],
   "source": [
    "# Test Accuracy\n",
    "correct, total = 0, 0\n",
    "with torch.no_grad():  # no gradients during testing\n",
    "    for images, labels in test_loader:\n",
    "        outputs = model(images)\n",
    "        _, predicted = torch.max(outputs, 1)\n",
    "        correct += (predicted == labels).sum().item()\n",
    "        total += labels.size(0)\n",
    "\n",
    "print(f\"Test Accuracy = {100 * correct / total:.2f}%\")"
   ]
  }
 ],
 "metadata": {
  "kernelspec": {
   "display_name": "Python 3 (ipykernel)",
   "language": "python",
   "name": "python3"
  },
  "language_info": {
   "codemirror_mode": {
    "name": "ipython",
    "version": 3
   },
   "file_extension": ".py",
   "mimetype": "text/x-python",
   "name": "python",
   "nbconvert_exporter": "python",
   "pygments_lexer": "ipython3",
   "version": "3.12.7"
  }
 },
 "nbformat": 4,
 "nbformat_minor": 5
}
